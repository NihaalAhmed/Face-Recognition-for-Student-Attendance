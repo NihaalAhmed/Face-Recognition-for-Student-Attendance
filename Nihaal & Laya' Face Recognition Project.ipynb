{
 "cells": [
  {
   "cell_type": "markdown",
   "id": "45ae30c6",
   "metadata": {},
   "source": [
    "# Import necessary libraries"
   ]
  },
  {
   "cell_type": "code",
   "execution_count": 1,
   "id": "e7b7e0e7",
   "metadata": {},
   "outputs": [
    {
     "name": "stdout",
     "output_type": "stream",
     "text": [
      "pygame 2.1.3 (SDL 2.0.22, Python 3.9.13)\n",
      "Hello from the pygame community. https://www.pygame.org/contribute.html\n"
     ]
    }
   ],
   "source": [
    "import face_recognition\n",
    "import cv2\n",
    "from PIL import Image, ImageDraw, ImageFont\n",
    "import sys\n",
    "import pandas as pd\n",
    "import datetime\n",
    "import pygame"
   ]
  },
  {
   "cell_type": "markdown",
   "id": "b2c9a6c7",
   "metadata": {},
   "source": [
    "# Reference Data Load Module"
   ]
  },
  {
   "cell_type": "code",
   "execution_count": 2,
   "id": "feca3cdb",
   "metadata": {},
   "outputs": [],
   "source": [
    "student = pd.read_csv('Students.csv')\n",
    "regno = student[\"RegisterNumber\"].tolist()\n",
    "firstname = student[\"FirstName\"].tolist()\n",
    "lastname = student[\"LastName\"].tolist()\n",
    "photolocation = student[\"PhotoLocation\"].tolist()\n",
    "sucesslocation=student[\"SucessAudioLocation\"].tolist()"
   ]
  },
  {
   "cell_type": "code",
   "execution_count": 3,
   "id": "7400ba95",
   "metadata": {},
   "outputs": [],
   "source": [
    "n = len(regno)\n",
    "studentRecord = []\n",
    "studentRecord_encod = []\n",
    "audio = []\n",
    "\n",
    "for i in range(n):\n",
    "    studentRecord.append(face_recognition.load_image_file(photolocation[i]))\n",
    "    studentRecord_encod.append(face_recognition.face_encodings(studentRecord[i])[0])"
   ]
  },
  {
   "cell_type": "markdown",
   "id": "6ca22add",
   "metadata": {},
   "source": [
    "# Face Image Capture"
   ]
  },
  {
   "cell_type": "code",
   "execution_count": 4,
   "id": "701b5eda",
   "metadata": {},
   "outputs": [
    {
     "name": "stdout",
     "output_type": "stream",
     "text": [
      "True (480, 640, 3)\n",
      "True (480, 640, 3)\n",
      "True (480, 640, 3)\n",
      "True (480, 640, 3)\n",
      "True (480, 640, 3)\n",
      "True (480, 640, 3)\n",
      "True (480, 640, 3)\n",
      "True (480, 640, 3)\n",
      "True (480, 640, 3)\n",
      "True (480, 640, 3)\n",
      "True (480, 640, 3)\n",
      "True (480, 640, 3)\n",
      "True (480, 640, 3)\n",
      "True (480, 640, 3)\n",
      "True (480, 640, 3)\n",
      "True (480, 640, 3)\n",
      "True (480, 640, 3)\n",
      "True (480, 640, 3)\n",
      "True (480, 640, 3)\n",
      "True (480, 640, 3)\n",
      "True (480, 640, 3)\n",
      "True (480, 640, 3)\n",
      "True (480, 640, 3)\n",
      "True (480, 640, 3)\n",
      "True (480, 640, 3)\n"
     ]
    }
   ],
   "source": [
    "camera = cv2.VideoCapture(0)\n",
    "for i in range(25):\n",
    "    return_value, image = camera.read()\n",
    "    cv2.imwrite('NihaalTest'+str(i)+'.png',image)\n",
    "    print(return_value,image.shape)\n",
    "\n",
    "del(camera)"
   ]
  },
  {
   "cell_type": "code",
   "execution_count": 5,
   "id": "6cc6fff8",
   "metadata": {},
   "outputs": [],
   "source": [
    "uk = face_recognition.load_image_file('NihaalTest13.png')"
   ]
  },
  {
   "cell_type": "markdown",
   "id": "289fddf0",
   "metadata": {},
   "source": [
    "# Face Recognition Module"
   ]
  },
  {
   "cell_type": "code",
   "execution_count": 6,
   "id": "6c0a4492",
   "metadata": {},
   "outputs": [
    {
     "name": "stdout",
     "output_type": "stream",
     "text": [
      "[False, False, False, False, False, False, True, False, False, False, False, False]\n",
      "6\n",
      "Wall time: 1.06 s\n"
     ]
    }
   ],
   "source": [
    "%%time\n",
    "\n",
    "def identify_student(photo):\n",
    "    try:\n",
    "        unknown_encode = face_recognition.face_encodings(photo)[0]\n",
    "    except indexerror as e:\n",
    "        print(e)\n",
    "        sys.exit(1)\n",
    "    found = face_recognition.compare_faces(\n",
    "    studentRecord_encod, unknown_encode, tolerance = 0.5)\n",
    "    \n",
    "    print(found)\n",
    "    \n",
    "    index = -1\n",
    "    for i in range(n):\n",
    "        if found[i]:\n",
    "            index = i\n",
    "    return(index)\n",
    "    \n",
    "student_index=identify_student(uk)\n",
    "print(student_index)"
   ]
  },
  {
   "cell_type": "markdown",
   "id": "50fb0138",
   "metadata": {},
   "source": [
    "# Attendance record in a data file attendance.txt"
   ]
  },
  {
   "cell_type": "code",
   "execution_count": 7,
   "id": "b1543da8",
   "metadata": {},
   "outputs": [
    {
     "name": "stdout",
     "output_type": "stream",
     "text": [
      "\n",
      "19MIC0038 NIHAAL AHMED.K 2023-04-05 12:35:10.541491\n"
     ]
    }
   ],
   "source": [
    "if(student_index !=-1):\n",
    "    x=str(datetime.datetime.now())\n",
    "    RegisterNumber = str(regno[student_index])\n",
    "    firstName = str(firstname[student_index])\n",
    "    lastName = str(lastname[student_index])\n",
    "    \n",
    "    ar = \"\\n\"+RegisterNumber+\" \"+firstName+\" \"+ lastName+\" \"+x\n",
    "    f=open('C:/Users/nihaa/Machine Learning/MiniProject/Attendance.txt','a')\n",
    "    f.write(ar)\n",
    "    f.close()\n",
    "    print(ar)"
   ]
  },
  {
   "cell_type": "markdown",
   "id": "a7041a13",
   "metadata": {},
   "source": [
    "# Displaying Attendance"
   ]
  },
  {
   "cell_type": "code",
   "execution_count": 8,
   "id": "59bf7c52",
   "metadata": {},
   "outputs": [],
   "source": [
    "pil_uk = Image.fromarray(uk)\n",
    "draw = ImageDraw.Draw(pil_uk)\n",
    "fnt = ImageFont.truetype(\"arial.ttf\",60)\n",
    "if student_index ==-1:\n",
    "    name = \"face not recognized\"\n",
    "    \n",
    "else:\n",
    "    name = firstname[student_index]+\" \"+lastname[student_index]\n",
    "\n",
    "\n",
    "x = 100\n",
    "y = uk.shape[0] - 100\n",
    "draw.text((x,y), name, font = fnt, fill=(0,0,0))\n",
    "pil_uk.show()\n"
   ]
  },
  {
   "cell_type": "markdown",
   "id": "ba2d40d0",
   "metadata": {},
   "source": [
    "# Announcing Attendance Recorded"
   ]
  },
  {
   "cell_type": "code",
   "execution_count": 9,
   "id": "36e42835",
   "metadata": {},
   "outputs": [],
   "source": [
    "audioloc = sucesslocation[student_index]\n",
    "pygame.mixer.init()\n",
    "\n",
    "if student_index ==-1:\n",
    "    pygame.mixer.music.load(\"C:/Users/nihaa/Machine Learning/MiniProject/Failed.mp3\")\n",
    "    pygame.mixer.music.play()\n",
    "    \n",
    "else:\n",
    "    pygame.mixer.music.load(audioloc)\n",
    "    pygame.mixer.music.play()\n",
    "    pygame.mixer.music.queue(\"C:/Users/nihaa/Machine Learning/MiniProject/Sucess.mp3\")\n",
    "    pygame.mixer.music.play()"
   ]
  },
  {
   "cell_type": "code",
   "execution_count": null,
   "id": "fe355777",
   "metadata": {},
   "outputs": [],
   "source": []
  },
  {
   "cell_type": "code",
   "execution_count": null,
   "id": "c5d3cece",
   "metadata": {},
   "outputs": [],
   "source": []
  }
 ],
 "metadata": {
  "kernelspec": {
   "display_name": "Python 3 (ipykernel)",
   "language": "python",
   "name": "python3"
  },
  "language_info": {
   "codemirror_mode": {
    "name": "ipython",
    "version": 3
   },
   "file_extension": ".py",
   "mimetype": "text/x-python",
   "name": "python",
   "nbconvert_exporter": "python",
   "pygments_lexer": "ipython3",
   "version": "3.9.13"
  }
 },
 "nbformat": 4,
 "nbformat_minor": 5
}
