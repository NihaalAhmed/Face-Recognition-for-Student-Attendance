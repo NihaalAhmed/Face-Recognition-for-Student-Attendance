{
 "cells": [
  {
   "cell_type": "markdown",
   "id": "468d03ea",
   "metadata": {},
   "source": [
    "# Attendance Using Face Recognition"
   ]
  },
  {
   "cell_type": "markdown",
   "id": "7b282423",
   "metadata": {},
   "source": [
    "Collecting the Dataset using the the below Code:"
   ]
  },
  {
   "cell_type": "code",
   "execution_count": null,
   "id": "48e552c5",
   "metadata": {},
   "outputs": [],
   "source": [
    "import cv2\n",
    "\n",
    "camera = cv2.VideoCapture(0)\n",
    "for i in range(10):\n",
    "    return_value, image = camera.read()\n",
    "    print(return_value,image.shape)\n",
    "    cv2.imwrite('NihaalAhmed'+str(i)+'.png',image)"
   ]
  },
  {
   "cell_type": "code",
   "execution_count": 2,
   "id": "739684e0",
   "metadata": {},
   "outputs": [],
   "source": [
    "del(camera)"
   ]
  },
  {
   "cell_type": "markdown",
   "id": "91878478",
   "metadata": {},
   "source": [
    "Importing the Necessary Libraries"
   ]
  },
  {
   "cell_type": "code",
   "execution_count": 6,
   "id": "cdd8cdbf",
   "metadata": {},
   "outputs": [
    {
     "name": "stdout",
     "output_type": "stream",
     "text": [
      "pygame 2.1.2 (SDL 2.0.18, Python 3.9.13)\n",
      "Hello from the pygame community. https://www.pygame.org/contribute.html\n"
     ]
    }
   ],
   "source": [
    "import cv2\n",
    "from PIL import Image, ImageDraw, ImageFont\n",
    "import sys\n",
    "import pandas as pd\n",
    "import datetime\n",
    "import pygame"
   ]
  },
  {
   "cell_type": "code",
   "execution_count": 5,
   "id": "0d5821e4",
   "metadata": {},
   "outputs": [
    {
     "name": "stdout",
     "output_type": "stream",
     "text": [
      "Defaulting to user installation because normal site-packages is not writeable\n",
      "Collecting pygame\n",
      "  Downloading pygame-2.1.2-cp39-cp39-win_amd64.whl (8.4 MB)\n",
      "     ---------------------------------------- 8.4/8.4 MB 1.5 MB/s eta 0:00:00\n",
      "Installing collected packages: pygame\n",
      "Successfully installed pygame-2.1.2\n",
      "Note: you may need to restart the kernel to use updated packages.\n"
     ]
    }
   ],
   "source": [
    "student = pd.read_csv()\n",
    "register no = student[\"Register Number\"].tolist()\n",
    "firstname = student[\"First Name\"].tolist()\n",
    "lastname = student[\"Last Name\"].tolist()\n",
    "photolocation = student[\"Photo Location\"].tolist()\n",
    "audiolocation = student[\"audio Location\"].tolist()\n",
    "\n",
    "n = len(register no)\n",
    "student = ()\n",
    "student_encod = []\n",
    "audio = []\n",
    "for i in range(n):\n",
    "    student.append"
   ]
  },
  {
   "cell_type": "code",
   "execution_count": null,
   "id": "51db35c4",
   "metadata": {},
   "outputs": [],
   "source": []
  }
 ],
 "metadata": {
  "kernelspec": {
   "display_name": "Python 3 (ipykernel)",
   "language": "python",
   "name": "python3"
  },
  "language_info": {
   "codemirror_mode": {
    "name": "ipython",
    "version": 3
   },
   "file_extension": ".py",
   "mimetype": "text/x-python",
   "name": "python",
   "nbconvert_exporter": "python",
   "pygments_lexer": "ipython3",
   "version": "3.9.13"
  }
 },
 "nbformat": 4,
 "nbformat_minor": 5
}
